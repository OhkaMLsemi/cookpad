{
 "cells": [
  {
   "cell_type": "code",
   "execution_count": 22,
   "metadata": {},
   "outputs": [],
   "source": [
    "%matplotlib inline\n",
    "import matplotlib.pyplot as plt\n",
    "from sklearn.model_selection import train_test_split\n",
    "import numpy as np \n",
    "import pandas as pd\n",
    "import os \n",
    "\n",
    "import keras\n",
    "from keras.models import Sequential\n",
    "from keras.layers import Dense, Dropout, Flatten\n",
    "from keras.layers import Conv2D, MaxPooling2D\n",
    "from keras import backend as K\n",
    "from keras.utils import np_utils \n",
    "from keras.preprocessing.image import img_to_array, list_pictures, load_img"
   ]
  },
  {
   "cell_type": "markdown",
   "metadata": {},
   "source": [
    "# 画像データを配列データへ変換"
   ]
  },
  {
   "cell_type": "code",
   "execution_count": 23,
   "metadata": {},
   "outputs": [
    {
     "ename": "MemoryError",
     "evalue": "",
     "output_type": "error",
     "traceback": [
      "\u001b[1;31m---------------------------------------------------------------------------\u001b[0m",
      "\u001b[1;31mMemoryError\u001b[0m                               Traceback (most recent call last)",
      "\u001b[1;32m<ipython-input-23-b0148e135027>\u001b[0m in \u001b[0;36m<module>\u001b[1;34m()\u001b[0m\n\u001b[0;32m      2\u001b[0m \u001b[1;32mfor\u001b[0m \u001b[0mpicture\u001b[0m \u001b[1;32min\u001b[0m \u001b[0mlist_pictures\u001b[0m\u001b[1;33m(\u001b[0m\u001b[1;34mr'C:\\Users\\nomura\\Documents\\data\\train'\u001b[0m\u001b[1;33m)\u001b[0m\u001b[1;33m:\u001b[0m\u001b[1;33m\u001b[0m\u001b[0m\n\u001b[0;32m      3\u001b[0m     \u001b[0mimg\u001b[0m \u001b[1;33m=\u001b[0m \u001b[0mload_img\u001b[0m\u001b[1;33m(\u001b[0m\u001b[0mpicture\u001b[0m\u001b[1;33m,\u001b[0m\u001b[0mgrayscale\u001b[0m\u001b[1;33m=\u001b[0m\u001b[1;32mTrue\u001b[0m\u001b[1;33m,\u001b[0m\u001b[0mtarget_size\u001b[0m\u001b[1;33m=\u001b[0m\u001b[1;33m(\u001b[0m\u001b[1;36m1024\u001b[0m\u001b[1;33m,\u001b[0m\u001b[1;36m1024\u001b[0m\u001b[1;33m)\u001b[0m\u001b[1;33m)\u001b[0m\u001b[1;33m\u001b[0m\u001b[0m\n\u001b[1;32m----> 4\u001b[1;33m     \u001b[0marray\u001b[0m \u001b[1;33m=\u001b[0m\u001b[0mimg_to_array\u001b[0m\u001b[1;33m(\u001b[0m\u001b[0mimg\u001b[0m\u001b[1;33m)\u001b[0m\u001b[1;33m\u001b[0m\u001b[0m\n\u001b[0m\u001b[0;32m      5\u001b[0m     \u001b[0mimage_list\u001b[0m\u001b[1;33m.\u001b[0m\u001b[0mappend\u001b[0m\u001b[1;33m(\u001b[0m\u001b[0marray\u001b[0m\u001b[1;33m)\u001b[0m\u001b[1;33m\u001b[0m\u001b[0m\n",
      "\u001b[1;32mc:\\programdata\\anaconda3\\envs\\tensorflow\\lib\\site-packages\\keras\\preprocessing\\image.py\u001b[0m in \u001b[0;36mimg_to_array\u001b[1;34m(img, data_format)\u001b[0m\n\u001b[0;32m    307\u001b[0m     \u001b[1;31m# or (channel, height, width)\u001b[0m\u001b[1;33m\u001b[0m\u001b[1;33m\u001b[0m\u001b[0m\n\u001b[0;32m    308\u001b[0m     \u001b[1;31m# but original PIL image has format (width, height, channel)\u001b[0m\u001b[1;33m\u001b[0m\u001b[1;33m\u001b[0m\u001b[0m\n\u001b[1;32m--> 309\u001b[1;33m     \u001b[0mx\u001b[0m \u001b[1;33m=\u001b[0m \u001b[0mnp\u001b[0m\u001b[1;33m.\u001b[0m\u001b[0masarray\u001b[0m\u001b[1;33m(\u001b[0m\u001b[0mimg\u001b[0m\u001b[1;33m,\u001b[0m \u001b[0mdtype\u001b[0m\u001b[1;33m=\u001b[0m\u001b[0mK\u001b[0m\u001b[1;33m.\u001b[0m\u001b[0mfloatx\u001b[0m\u001b[1;33m(\u001b[0m\u001b[1;33m)\u001b[0m\u001b[1;33m)\u001b[0m\u001b[1;33m\u001b[0m\u001b[0m\n\u001b[0m\u001b[0;32m    310\u001b[0m     \u001b[1;32mif\u001b[0m \u001b[0mlen\u001b[0m\u001b[1;33m(\u001b[0m\u001b[0mx\u001b[0m\u001b[1;33m.\u001b[0m\u001b[0mshape\u001b[0m\u001b[1;33m)\u001b[0m \u001b[1;33m==\u001b[0m \u001b[1;36m3\u001b[0m\u001b[1;33m:\u001b[0m\u001b[1;33m\u001b[0m\u001b[0m\n\u001b[0;32m    311\u001b[0m         \u001b[1;32mif\u001b[0m \u001b[0mdata_format\u001b[0m \u001b[1;33m==\u001b[0m \u001b[1;34m'channels_first'\u001b[0m\u001b[1;33m:\u001b[0m\u001b[1;33m\u001b[0m\u001b[0m\n",
      "\u001b[1;32mc:\\programdata\\anaconda3\\envs\\tensorflow\\lib\\site-packages\\numpy\\core\\numeric.py\u001b[0m in \u001b[0;36masarray\u001b[1;34m(a, dtype, order)\u001b[0m\n\u001b[0;32m    490\u001b[0m \u001b[1;33m\u001b[0m\u001b[0m\n\u001b[0;32m    491\u001b[0m     \"\"\"\n\u001b[1;32m--> 492\u001b[1;33m     \u001b[1;32mreturn\u001b[0m \u001b[0marray\u001b[0m\u001b[1;33m(\u001b[0m\u001b[0ma\u001b[0m\u001b[1;33m,\u001b[0m \u001b[0mdtype\u001b[0m\u001b[1;33m,\u001b[0m \u001b[0mcopy\u001b[0m\u001b[1;33m=\u001b[0m\u001b[1;32mFalse\u001b[0m\u001b[1;33m,\u001b[0m \u001b[0morder\u001b[0m\u001b[1;33m=\u001b[0m\u001b[0morder\u001b[0m\u001b[1;33m)\u001b[0m\u001b[1;33m\u001b[0m\u001b[0m\n\u001b[0m\u001b[0;32m    493\u001b[0m \u001b[1;33m\u001b[0m\u001b[0m\n\u001b[0;32m    494\u001b[0m \u001b[1;33m\u001b[0m\u001b[0m\n",
      "\u001b[1;31mMemoryError\u001b[0m: "
     ]
    }
   ],
   "source": [
    "image_list = []\n",
    "for picture in list_pictures(r'C:\\Users\\nomura\\Documents\\data\\train'):\n",
    "    img = load_img(picture,grayscale=True,target_size=(1024,1024))\n",
    "    array =img_to_array(img)  \n",
    "    image_list.append(array)"
   ]
  },
  {
   "cell_type": "code",
   "execution_count": 6,
   "metadata": {},
   "outputs": [],
   "source": [
    "os.chdir(r'C:\\Users\\nomura\\Documents\\data')\n",
    "label_data = pd.read_table('train_master.tsv')\n",
    "label_list = label_data['category_id'].values.tolist()"
   ]
  },
  {
   "cell_type": "markdown",
   "metadata": {},
   "source": [
    "# 各項目で扱う数値の設定，データの分割"
   ]
  },
  {
   "cell_type": "code",
   "execution_count": 7,
   "metadata": {},
   "outputs": [],
   "source": [
    "batch_size = 128\n",
    "num_classes = 55\n",
    "epochs = 12\n",
    "input_shape = (28,28,1)\n",
    "\n",
    "x_train,x_valid,y_train,y_valid = train_test_split(image_list,label_list,test_size=0.2,random_state=42)"
   ]
  },
  {
   "cell_type": "code",
   "execution_count": 8,
   "metadata": {},
   "outputs": [],
   "source": [
    "x_train = np.array(x_train)\n",
    "x_valid = np.array(x_valid)\n",
    "y_train = np.array(y_train)\n",
    "y_valid = np.array(y_valid)"
   ]
  },
  {
   "cell_type": "markdown",
   "metadata": {},
   "source": [
    "# 画素の正規化"
   ]
  },
  {
   "cell_type": "code",
   "execution_count": 9,
   "metadata": {},
   "outputs": [
    {
     "name": "stdout",
     "output_type": "stream",
     "text": [
      "x_train shape: (9596, 28, 28, 1)\n",
      "9596 train samples\n",
      "2399 valid samples\n"
     ]
    }
   ],
   "source": [
    "x_train = x_train.astype('float32')\n",
    "x_valid = x_valid.astype('float32')\n",
    "\n",
    "#輝度値0～255を正規化処理\n",
    "x_train /= 255\n",
    "x_valid /= 255\n",
    "\n",
    "#x_train（画像データ数,画像の列分割数,画像の行分割数,1)\n",
    "print('x_train shape:', x_train.shape)\n",
    "print(x_train.shape[0], 'train samples')\n",
    "print(x_valid.shape[0], 'valid samples')"
   ]
  },
  {
   "cell_type": "markdown",
   "metadata": {},
   "source": [
    "# クラスラベルの配列形式の変更"
   ]
  },
  {
   "cell_type": "code",
   "execution_count": 10,
   "metadata": {},
   "outputs": [],
   "source": [
    "y_train = y_train.astype('int32')\n",
    "y_valid = y_valid.astype('int32')\n",
    "\n",
    "#クラスラベルをone hot encoding形式へ変更\n",
    "y_train = keras.utils.np_utils.to_categorical(y_train, num_classes)\n",
    "y_valid = keras.utils.np_utils.to_categorical(y_valid, num_classes)"
   ]
  },
  {
   "cell_type": "markdown",
   "metadata": {},
   "source": [
    "one hot encodingのイメージ\n",
    "http://yusuke-ujitoko.hatenablog.com/entry/2017/03/30/000000"
   ]
  },
  {
   "cell_type": "markdown",
   "metadata": {},
   "source": [
    "# モデリング"
   ]
  },
  {
   "cell_type": "code",
   "execution_count": 11,
   "metadata": {},
   "outputs": [
    {
     "name": "stdout",
     "output_type": "stream",
     "text": [
      "Train on 9596 samples, validate on 2399 samples\n",
      "Epoch 1/12\n",
      "9596/9596 [==============================] - 30s 3ms/step - loss: 4.0087 - acc: 0.0190 - val_loss: 4.0073 - val_acc: 0.0200\n",
      "Epoch 2/12\n",
      "9596/9596 [==============================] - 28s 3ms/step - loss: 4.0066 - acc: 0.0190 - val_loss: 4.0075 - val_acc: 0.0154\n",
      "Epoch 3/12\n",
      "9596/9596 [==============================] - 27s 3ms/step - loss: 4.0056 - acc: 0.0190 - val_loss: 4.0073 - val_acc: 0.0217\n",
      "Epoch 4/12\n",
      "9596/9596 [==============================] - 27s 3ms/step - loss: 4.0045 - acc: 0.0202 - val_loss: 4.0089 - val_acc: 0.0138\n",
      "Epoch 5/12\n",
      "9596/9596 [==============================] - 26s 3ms/step - loss: 4.0020 - acc: 0.0215 - val_loss: 4.0091 - val_acc: 0.0163\n",
      "Epoch 6/12\n",
      "9596/9596 [==============================] - 27s 3ms/step - loss: 3.9978 - acc: 0.0237 - val_loss: 4.0119 - val_acc: 0.0192\n",
      "Epoch 7/12\n",
      "9596/9596 [==============================] - 26s 3ms/step - loss: 3.9881 - acc: 0.0319 - val_loss: 4.0148 - val_acc: 0.0154\n",
      "Epoch 8/12\n",
      "9596/9596 [==============================] - 24s 2ms/step - loss: 3.9721 - acc: 0.0344 - val_loss: 4.0199 - val_acc: 0.0142\n",
      "Epoch 9/12\n",
      "9596/9596 [==============================] - 24s 2ms/step - loss: 3.9440 - acc: 0.0388 - val_loss: 4.0328 - val_acc: 0.0158\n",
      "Epoch 10/12\n",
      "9596/9596 [==============================] - 24s 2ms/step - loss: 3.8992 - acc: 0.0511 - val_loss: 4.0544 - val_acc: 0.0213\n",
      "Epoch 11/12\n",
      "9596/9596 [==============================] - 24s 2ms/step - loss: 3.8376 - acc: 0.0624 - val_loss: 4.0557 - val_acc: 0.0175\n",
      "Epoch 12/12\n",
      "9596/9596 [==============================] - 24s 3ms/step - loss: 3.7613 - acc: 0.0750 - val_loss: 4.0817 - val_acc: 0.0171\n"
     ]
    }
   ],
   "source": [
    "model = Sequential()\n",
    "\n",
    "#Conv2D　kernel_sizeで畳み込み計算の範囲を指定。フィルターの数はfilter_sizeで指定。\n",
    "model.add(Conv2D(32, kernel_size=(3, 3),\n",
    "                 activation='relu',\n",
    "                 input_shape=input_shape))\n",
    "model.add(Conv2D(64, (3, 3), activation='relu'))\n",
    "\n",
    "#MaxPool2D　プーリング処理。pool_sizeでプーリングする範囲を指定\n",
    "model.add(MaxPooling2D(pool_size=(2, 2)))\n",
    "model.add(Dropout(0.25))\n",
    "\n",
    "#Flatten 2次元の特徴を1次元化。平滑化。\n",
    "model.add(Flatten())\n",
    "\n",
    "\n",
    "#入力層-隠れ層　128はユニット数、activationは活性化関数\n",
    "model.add(Dense(128, activation='relu'))\n",
    "model.add(Dropout(0.5))\n",
    "\n",
    "\n",
    "#隠れ層-出力層\n",
    "model.add(Dense(num_classes, activation='softmax'))\n",
    "\n",
    "model.compile(loss=keras.losses.categorical_crossentropy,\n",
    "              optimizer=keras.optimizers.Adadelta(),\n",
    "              metrics=['accuracy'])\n",
    "\n"
   ]
  },
  {
   "cell_type": "code",
   "execution_count": null,
   "metadata": {},
   "outputs": [],
   "source": [
    "\n",
    "history = model.fit(x_train, y_train, batch_size=batch_size, epochs=epochs,\n",
    "          verbose=1, validation_data=(x_valid, y_valid))"
   ]
  },
  {
   "cell_type": "markdown",
   "metadata": {},
   "source": [
    "model.compileの各パラメータ　https://keras.io/ja/models/sequential/"
   ]
  },
  {
   "cell_type": "markdown",
   "metadata": {},
   "source": [
    "# 正答率,損失関数のグラフ化"
   ]
  },
  {
   "cell_type": "code",
   "execution_count": 12,
   "metadata": {},
   "outputs": [
    {
     "data": {
      "image/png": "[encoded data removed]",
      "text/plain": [
       "<matplotlib.figure.Figure at 0x133c6908>"
      ]
     },
     "metadata": {},
     "output_type": "display_data"
    },
    {
     "data": {
      "image/png": "[encoded data removed]",
      "text/plain": [
       "<matplotlib.figure.Figure at 0x17b1ce10>"
      ]
     },
     "metadata": {},
     "output_type": "display_data"
    }
   ],
   "source": [
    "#正答率\n",
    "plt.plot(history.history['acc'])\n",
    "plt.plot(history.history['val_acc'])\n",
    "plt.title('model accuracy')\n",
    "plt.ylabel('accuracy')\n",
    "plt.xlabel('epoch')\n",
    "plt.legend(['train', 'test'], loc='upper left')\n",
    "plt.show()\n",
    "\n",
    "#loss\n",
    "plt.plot(history.history['loss'])\n",
    "plt.plot(history.history['val_loss'])\n",
    "plt.title('model loss')\n",
    "plt.ylabel('loss')\n",
    "plt.xlabel('epoch')\n",
    "plt.legend(['train', 'test'], loc='upper left')\n",
    "plt.show()"
   ]
  },
  {
   "cell_type": "markdown",
   "metadata": {},
   "source": [
    "# Prediction"
   ]
  },
  {
   "cell_type": "code",
   "execution_count": 15,
   "metadata": {},
   "outputs": [],
   "source": [
    "x_test = []\n",
    "for picture in list_pictures(r'C:\\Users\\nomura\\Documents\\data\\\\test'):\n",
    "    img = load_img(picture,grayscale=True,target_size=(28,28))\n",
    "    array =img_to_array(img)  \n",
    "    x_test.append(array)"
   ]
  },
  {
   "cell_type": "code",
   "execution_count": 16,
   "metadata": {},
   "outputs": [
    {
     "name": "stdout",
     "output_type": "stream",
     "text": [
      "x_train shape: (3937, 28, 28, 1)\n",
      "3937 train samples\n"
     ]
    }
   ],
   "source": [
    "x_test = np.array(x_test)\n",
    "x_test = x_test.astype('float32')\n",
    "x_test /= 255\n",
    "print('x_train shape:', x_test.shape)\n",
    "print(x_test.shape[0], 'train samples')"
   ]
  },
  {
   "cell_type": "code",
   "execution_count": 17,
   "metadata": {},
   "outputs": [
    {
     "name": "stdout",
     "output_type": "stream",
     "text": [
      "3937/3937 [==============================] - 3s 795us/step\n"
     ]
    }
   ],
   "source": [
    "pred = model.predict(x_test, batch_size=batch_size, verbose=1, steps=None)\n",
    "pred = pred.argmax(axis=1)\n",
    "pred = pd.DataFrame(pred)"
   ]
  },
  {
   "cell_type": "code",
   "execution_count": 20,
   "metadata": {},
   "outputs": [],
   "source": [
    "os.chdir(r\"C:\\Users\\nomura\\Documents\\data\")\n",
    "sample_label = pd.read_table('sample_submit.tsv', header=None)\n",
    "test_id = sample_label[0]"
   ]
  },
  {
   "cell_type": "code",
   "execution_count": 21,
   "metadata": {},
   "outputs": [],
   "source": [
    "submission = pd.concat((test_id,pred), axis = 1)\n",
    "submission.to_csv(\"sumission.tsv\", index = False, header = None, sep='\\t')"
   ]
  },
  {
   "cell_type": "markdown",
   "metadata": {},
   "source": [
    "# 参考文献"
   ]
  },
  {
   "cell_type": "markdown",
   "metadata": {},
   "source": [
    "実装①　http://aidiary.hatenablog.com/entry/20161109/1478696865"
   ]
  },
  {
   "cell_type": "markdown",
   "metadata": {},
   "source": [
    "実装②　https://employment.en-japan.com/engineerhub/entry/2017/04/28/110000"
   ]
  },
  {
   "cell_type": "markdown",
   "metadata": {},
   "source": [
    "理論①　https://qiita.com/eijian/items/24d7e6aee332d59509ec#_reference-cf6b81cd647475e3c1a3"
   ]
  },
  {
   "cell_type": "markdown",
   "metadata": {},
   "source": [
    "理論②　http://www.hpc.co.jp/AboutDeepLearning.html"
   ]
  },
  {
   "cell_type": "code",
   "execution_count": null,
   "metadata": {
    "collapsed": true
   },
   "outputs": [],
   "source": []
  }
 ],
 "metadata": {
  "kernelspec": {
   "display_name": "Python 3",
   "language": "python",
   "name": "python3"
  },
  "language_info": {
   "codemirror_mode": {
    "name": "ipython",
    "version": 3
   },
   "file_extension": ".py",
   "mimetype": "text/x-python",
   "name": "python",
   "nbconvert_exporter": "python",
   "pygments_lexer": "ipython3",
   "version": "3.5.4"
  }
 },
 "nbformat": 4,
 "nbformat_minor": 2
}
